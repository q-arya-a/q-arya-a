{
 "cells": [
  {
   "cell_type": "markdown",
   "id": "7195f39e-c1c4-4d7d-a2c9-d85e10fd0701",
   "metadata": {},
   "source": [
    "# Arrays\n",
    "\n",
    "Arrays are continuous sequences of values of a homogeneous type.  The simplest way to emulate this in Python is using the `list` datatype.  However, lists do not enforce this homogeneity of the data."
   ]
  },
  {
   "cell_type": "code",
   "execution_count": null,
   "id": "e08d78c2-41fa-4fdd-b48f-eba7ce3b6224",
   "metadata": {},
   "outputs": [],
   "source": [
    "# Define a function over a list\n",
    "def mymean(x):\n",
    "    s = 0\n",
    "    for i in x:\n",
    "        s += i\n",
    "    return s / len(x)"
   ]
  },
  {
   "cell_type": "code",
   "execution_count": null,
   "id": "97fdcd3f-3d8c-4829-b989-7c63a99c8eb0",
   "metadata": {},
   "outputs": [],
   "source": [
    "# Create a list and check the function output\n",
    "# x = range(10000)\n",
    "x = [float(x) for x in range(10000000)]\n",
    "print(mymean(x))"
   ]
  },
  {
   "cell_type": "markdown",
   "id": "7afc63e1-56fb-46d8-be89-94b5eef2830e",
   "metadata": {},
   "source": [
    "# Benchmarking\n",
    "\n",
    "> Do not try to optimize what you have not measured.\n",
    "\n",
    "Before we try to improve the speed of code, we first need to know \n",
    "\n",
    "- whether it can in fact be improved, or it is already as fast as possible given the hardware\n",
    "- which parts of the code should we target for optimization"
   ]
  },
  {
   "cell_type": "code",
   "execution_count": null,
   "id": "b460ba89-b5b5-409d-8ecb-b880f7898b96",
   "metadata": {},
   "outputs": [],
   "source": [
    "# A library that provides a magic function to benchmark functions\n",
    "import timeit"
   ]
  },
  {
   "cell_type": "code",
   "execution_count": null,
   "id": "c1eb872a-18ec-4c33-85fd-c0468ab3addc",
   "metadata": {},
   "outputs": [],
   "source": [
    "# Actually measure the time for the function defined earlier\n",
    "%timeit mymean(x)"
   ]
  },
  {
   "cell_type": "code",
   "execution_count": null,
   "id": "cb7ebcf1-da1a-4422-8989-af045d654e5b",
   "metadata": {},
   "outputs": [],
   "source": [
    "# Another library - this provides other ways of handling arrays\n",
    "import numpy as np"
   ]
  },
  {
   "cell_type": "code",
   "execution_count": null,
   "id": "cc989577-8707-4334-91e3-3e835b626cf7",
   "metadata": {},
   "outputs": [],
   "source": [
    "print(np.mean(x))"
   ]
  },
  {
   "cell_type": "code",
   "execution_count": null,
   "id": "c868a405-b970-46c6-9b45-0d8f539911d2",
   "metadata": {},
   "outputs": [],
   "source": [
    "%timeit np.mean(x)"
   ]
  },
  {
   "cell_type": "code",
   "execution_count": null,
   "id": "7a090fb7-b3b7-455e-9df1-23e5bdab2882",
   "metadata": {},
   "outputs": [],
   "source": [
    "xn = np.array(x)\n",
    "%timeit np.mean(xn)"
   ]
  },
  {
   "cell_type": "markdown",
   "id": "b097e073-ffc0-4397-bca8-695cbe7369d6",
   "metadata": {},
   "source": [
    "# Memory Usage\n",
    "\n",
    "The notebook interface (or `ipython` in general) allows us to easily see the various elements that exist in the namespace, along with some more information about them.  Use the `who` or `whos` commands for this."
   ]
  },
  {
   "cell_type": "code",
   "execution_count": null,
   "id": "fa6866a7-fc53-47ed-a0b1-e11b257fb3e1",
   "metadata": {},
   "outputs": [],
   "source": [
    "whos"
   ]
  },
  {
   "cell_type": "markdown",
   "id": "9eedc5e5-feb5-44ea-ac9a-eff54a458dd4",
   "metadata": {},
   "source": [
    "# 2-D arrays\n",
    "\n",
    "How do we represent a 2-D array in Python - the most obvious way is a list of lists."
   ]
  },
  {
   "cell_type": "code",
   "execution_count": null,
   "id": "9ce77466-aaaa-4a7d-851b-ee0ce83a950d",
   "metadata": {},
   "outputs": [],
   "source": [
    "xm=[[x for x in range(i, i+100)] for i in range(100)]\n",
    "print(xm)"
   ]
  },
  {
   "cell_type": "code",
   "execution_count": null,
   "id": "c8f958e8-c116-47ca-a2d0-b133f5809813",
   "metadata": {},
   "outputs": [],
   "source": [
    "print(xm[3][4])"
   ]
  },
  {
   "cell_type": "code",
   "execution_count": null,
   "id": "af7a353e-19ae-402f-bca4-aca5ff1ebda3",
   "metadata": {},
   "outputs": [],
   "source": [
    "def rowmean(xm):\n",
    "    s = []\n",
    "    for l in xm:\n",
    "        s.append(mymean(l))\n",
    "    return s"
   ]
  },
  {
   "cell_type": "code",
   "execution_count": null,
   "id": "7bd56acb-2d0d-49f2-b604-d08a848196a2",
   "metadata": {},
   "outputs": [],
   "source": [
    "print(rowmean(xm))"
   ]
  },
  {
   "cell_type": "code",
   "execution_count": null,
   "id": "4a199f9d-e1b7-468c-a248-5e349f36098f",
   "metadata": {},
   "outputs": [],
   "source": [
    "xmn = np.array(xm)\n",
    "print(type(xmn[0]))"
   ]
  },
  {
   "cell_type": "code",
   "execution_count": null,
   "id": "c6a77886-fa7e-4999-bf70-ae6f6dc8733d",
   "metadata": {},
   "outputs": [],
   "source": [
    "np.mean(xmn)"
   ]
  },
  {
   "cell_type": "code",
   "execution_count": null,
   "id": "a42fe760-8901-4c19-a75b-7ee7ca603604",
   "metadata": {},
   "outputs": [],
   "source": [
    "print(np.mean(xmn, axis=0))"
   ]
  },
  {
   "cell_type": "code",
   "execution_count": null,
   "id": "e75cb950-21c3-470d-84dd-2e4fd7cfb15f",
   "metadata": {},
   "outputs": [],
   "source": [
    "%timeit rowmean(xm)"
   ]
  },
  {
   "cell_type": "code",
   "execution_count": null,
   "id": "a7c1e53e-e0d6-4868-b19f-d69fb69b6c55",
   "metadata": {},
   "outputs": [],
   "source": [
    "%timeit np.mean(xmn, axis=0)"
   ]
  },
  {
   "cell_type": "code",
   "execution_count": null,
   "id": "b19ab452-515f-46d4-932f-07e1ab840634",
   "metadata": {},
   "outputs": [],
   "source": [
    "print(xmn)"
   ]
  },
  {
   "cell_type": "markdown",
   "id": "569d682c-d6f2-4d4f-ac2d-ab7629aa37f9",
   "metadata": {},
   "source": [
    "# File I/O\n",
    "\n",
    "Rather than just creating dummy data, we should be able to read in data from other sources.  Most often, these sources are files containing data.  One simple way to do this would be reading data from files.  For now, we will assume that the data is present linewise as text.  This is NOT the most efficient way to store data, but is easiest to work with."
   ]
  },
  {
   "cell_type": "code",
   "execution_count": null,
   "id": "3fe151e7-be20-4ebd-b267-aacf2d53f6fe",
   "metadata": {},
   "outputs": [],
   "source": [
    "# Generate random data using library function\n",
    "import random\n",
    "#r = np.random.random((100,100))\n",
    "#np.savetxt('random.txt', r)"
   ]
  },
  {
   "cell_type": "code",
   "execution_count": null,
   "id": "f46e4ee4-384a-4b6d-bffa-2aa3bb99f6c7",
   "metadata": {},
   "outputs": [],
   "source": [
    "# Now read in to a regular list\n",
    "f = open('random.txt', 'r')\n",
    "rm = []\n",
    "for l in f:\n",
    "    r = [float(x) for x in l.split()]\n",
    "    rm.append(r)\n",
    "print(rm)"
   ]
  },
  {
   "cell_type": "code",
   "execution_count": null,
   "id": "35b482ed-d46f-4494-93d8-27fe80cb5d62",
   "metadata": {},
   "outputs": [],
   "source": [
    "print(rowmean(rm))"
   ]
  },
  {
   "cell_type": "code",
   "execution_count": null,
   "id": "433e68da-059d-4561-b440-9113941f151f",
   "metadata": {},
   "outputs": [],
   "source": [
    "# Alternative using numpy methods - only for appropriately formatted data of course\n",
    "rmn = np.loadtxt('random.txt')"
   ]
  },
  {
   "cell_type": "code",
   "execution_count": null,
   "id": "a4db4631-c67e-4555-82de-a9e934d88752",
   "metadata": {},
   "outputs": [],
   "source": [
    "print(np.mean(rmn, axis=1))"
   ]
  },
  {
   "cell_type": "code",
   "execution_count": null,
   "id": "55d39ea8-476c-438f-aaf9-50147f244249",
   "metadata": {},
   "outputs": [],
   "source": [
    "print(rmn[0,0:10])"
   ]
  },
  {
   "cell_type": "markdown",
   "id": "1fa5f31e-4006-4ca6-9036-570b8e5f3d35",
   "metadata": {},
   "source": [
    "# Generalize File I/O and Strings\n",
    "\n",
    "What if we want to read something like strings that cannot be handled by numpy?"
   ]
  },
  {
   "cell_type": "code",
   "execution_count": null,
   "id": "1682c114-b34d-4a79-a339-06f10c2cc4c7",
   "metadata": {},
   "outputs": [],
   "source": [
    "fr = open('randomtext.txt', 'r')\n",
    "count = 0\n",
    "for l in fr:\n",
    "    for word in l.split():\n",
    "        if word == \"the\":\n",
    "            count += 1\n",
    "print(count)"
   ]
  },
  {
   "cell_type": "markdown",
   "id": "2665ce30-d267-4dfe-9632-09c3a59ddcb6",
   "metadata": {},
   "source": [
    "## Fake files using StringIO\n",
    "\n",
    "For our testing purposes, we may not always be able to read/write files.  Instead we will create *fake* files where we emulate the behaviour of a file using data from a string."
   ]
  },
  {
   "cell_type": "code",
   "execution_count": null,
   "id": "857789a8-6ef1-449b-8fde-eb4c819a2a81",
   "metadata": {},
   "outputs": [],
   "source": [
    "randstr = \"\"\"There are many variations of passages of Lorem Ipsum available, \n",
    "but the majority have suffered alteration in some form, by injected humour, \n",
    "or randomised words which don't look even slightly believable. \n",
    "If you are going to use a passage of Lorem Ipsum, you need to be sure \n",
    "there isn't anything embarrassing hidden in the middle of text. \n",
    "All the Lorem Ipsum generators on the Internet tend to repeat predefined \n",
    "chunks as necessary, making this the first true generator on the Internet. \n",
    "It uses a dictionary of over 200 Latin words, combined with a handful of \n",
    "model sentence structures, to generate Lorem Ipsum which looks reasonable. \n",
    "The generated Lorem Ipsum is therefore always free from repetition, \n",
    "injected humour, or non-characteristic words etc.\n",
    "\"\"\""
   ]
  },
  {
   "cell_type": "code",
   "execution_count": null,
   "id": "826cabf2-83d2-410f-8663-e349128546fe",
   "metadata": {},
   "outputs": [],
   "source": [
    "import io\n",
    "sfr = io.StringIO(randstr)\n",
    "count = 0\n",
    "for l in sfr:\n",
    "    for word in l.split():\n",
    "        if word == \"the\":\n",
    "            count += 1\n",
    "print(count)"
   ]
  },
  {
   "cell_type": "code",
   "execution_count": null,
   "id": "97602bbc-3c57-490d-a738-e9e4c3ca6ab8",
   "metadata": {},
   "outputs": [],
   "source": []
  }
 ],
 "metadata": {
  "kernelspec": {
   "display_name": "Python 3 (ipykernel)",
   "language": "python",
   "name": "python3"
  },
  "language_info": {
   "codemirror_mode": {
    "name": "ipython",
    "version": 3
   },
   "file_extension": ".py",
   "mimetype": "text/x-python",
   "name": "python",
   "nbconvert_exporter": "python",
   "pygments_lexer": "ipython3",
   "version": "3.9.2"
  }
 },
 "nbformat": 4,
 "nbformat_minor": 5
}
